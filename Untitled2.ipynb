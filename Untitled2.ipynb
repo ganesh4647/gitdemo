{
 "cells": [
  {
   "cell_type": "code",
   "execution_count": 31,
   "metadata": {},
   "outputs": [
    {
     "name": "stdout",
     "output_type": "stream",
     "text": [
      "18\n",
      "not weird\n"
     ]
    }
   ],
   "source": [
    "num=int(input())\n",
    "if(num%2)==0:\n",
    "    if(2<=5):\n",
    "        print(\"not weird\")\n",
    "elif(6<=20)==0:\n",
    "        print(\"weird\")\n",
    "    else:\n",
    "        print(\" not weird\")\n",
    "else:\n",
    "    print(\" weird\")"
   ]
  },
  {
   "cell_type": "code",
   "execution_count": null,
   "metadata": {},
   "outputs": [],
   "source": []
  },
  {
   "cell_type": "code",
   "execution_count": null,
   "metadata": {},
   "outputs": [],
   "source": []
  }
 ],
 "metadata": {
  "kernelspec": {
   "display_name": "Python 3",
   "language": "python",
   "name": "python3"
  },
  "language_info": {
   "codemirror_mode": {
    "name": "ipython",
    "version": 3
   },
   "file_extension": ".py",
   "mimetype": "text/x-python",
   "name": "python",
   "nbconvert_exporter": "python",
   "pygments_lexer": "ipython3",
   "version": "3.8.3"
  }
 },
 "nbformat": 4,
 "nbformat_minor": 4
}
