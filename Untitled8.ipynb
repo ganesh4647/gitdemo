{
 "cells": [
  {
   "cell_type": "code",
   "execution_count": 3,
   "metadata": {},
   "outputs": [
    {
     "name": "stdout",
     "output_type": "stream",
     "text": [
      "5\n",
      "0\n",
      "1\n",
      "4\n",
      "9\n",
      "16\n"
     ]
    }
   ],
   "source": [
    "n=int(input())\n",
    "for i in range(0,n,1):\n",
    "    m=i**2\n",
    "    print(m)\n",
    "    "
   ]
  },
  {
   "cell_type": "code",
   "execution_count": 66,
   "metadata": {},
   "outputs": [
    {
     "name": "stdout",
     "output_type": "stream",
     "text": [
      "4\n",
      "Leap Year , True\n"
     ]
    },
    {
     "data": {
      "text/plain": [
       "<function __main__.leap()>"
      ]
     },
     "execution_count": 66,
     "metadata": {},
     "output_type": "execute_result"
    }
   ],
   "source": [
    "a=int(input())\n",
    "def leap():\n",
    "    if(a/4==1 or a/400==1):\n",
    "        print(\"Leap Year , True\")\n",
    "    elif(a/100==1):\n",
    "        print(\"Not leap year,false\")\n",
    "    else:\n",
    "        print(\"Not Leap Year , False\")\n",
    "    return(leap)\n",
    "leap()"
   ]
  },
  {
   "cell_type": "code",
   "execution_count": 135,
   "metadata": {},
   "outputs": [
    {
     "name": "stdout",
     "output_type": "stream",
     "text": [
      "2000\n"
     ]
    }
   ],
   "source": [
    "b=int(input())\n",
    "def display(b):\n",
    "    display = false\n",
    "    if (b%400==0):\n",
    "        print(\"leap year ,true\")\n",
    "    elif(b%100==0):\n",
    "        print(\"not leap year,false\")\n",
    "    else:\n",
    "        if(b%4==0):\n",
    "            print(\"leap year, true\")\n",
    "        else:\n",
    "            print(\"not leap year\")\n",
    "        return b"
   ]
  },
  {
   "cell_type": "code",
   "execution_count": 127,
   "metadata": {},
   "outputs": [
    {
     "name": "stdout",
     "output_type": "stream",
     "text": [
      "1993\n",
      "not Leap year ,false\n"
     ]
    }
   ],
   "source": [
    "c=int(input())\n",
    "if(c%400==0):\n",
    "    print(\"leap year ,true\")\n",
    "elif(c%100==0):\n",
    "    print(\"not leap year ,false\")\n",
    "else:\n",
    "    if(c%4==0):\n",
    "        print(\"leap Year ,true\")\n",
    "    else:\n",
    "        print(\"not Leap year ,false\")"
   ]
  },
  {
   "cell_type": "code",
   "execution_count": null,
   "metadata": {},
   "outputs": [],
   "source": []
  },
  {
   "cell_type": "code",
   "execution_count": null,
   "metadata": {},
   "outputs": [],
   "source": []
  }
 ],
 "metadata": {
  "kernelspec": {
   "display_name": "Python 3",
   "language": "python",
   "name": "python3"
  },
  "language_info": {
   "codemirror_mode": {
    "name": "ipython",
    "version": 3
   },
   "file_extension": ".py",
   "mimetype": "text/x-python",
   "name": "python",
   "nbconvert_exporter": "python",
   "pygments_lexer": "ipython3",
   "version": "3.8.3"
  }
 },
 "nbformat": 4,
 "nbformat_minor": 4
}
